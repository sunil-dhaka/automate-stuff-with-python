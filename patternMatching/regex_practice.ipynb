{
 "cells": [
  {
   "cell_type": "code",
   "execution_count": 1,
   "metadata": {},
   "outputs": [],
   "source": [
    "import re"
   ]
  },
  {
   "cell_type": "markdown",
   "metadata": {},
   "source": [
    "- basic example of regex"
   ]
  },
  {
   "cell_type": "code",
   "execution_count": 2,
   "metadata": {},
   "outputs": [
    {
     "name": "stdout",
     "output_type": "stream",
     "text": [
      "234-432-2564\n"
     ]
    }
   ],
   "source": [
    "phone_pattern_1=re.compile(r'\\d\\d\\d-\\d\\d\\d-\\d\\d\\d\\d')\n",
    "text1='One can contact Cal Tech on 234-432-2564 or 232-324-6758.'\n",
    "re_result1=phone_pattern_1.search(text1)\n",
    "if re_result1 is not None:\n",
    "    print(re_result1.group())\n",
    "else:\n",
    "    print('No match found.')\n",
    "# but it did not find all matching regex??"
   ]
  },
  {
   "cell_type": "markdown",
   "metadata": {},
   "source": [
    "- grouping with parentheses in regex"
   ]
  },
  {
   "cell_type": "code",
   "execution_count": 3,
   "metadata": {},
   "outputs": [
    {
     "name": "stdout",
     "output_type": "stream",
     "text": [
      "234-432-2564\n",
      "234\n",
      "432-2564\n",
      "('234', '432-2564')\n"
     ]
    }
   ],
   "source": [
    "phone_pattern_2=re.compile(r'(\\d\\d\\d)-(\\d\\d\\d-\\d\\d\\d\\d)')\n",
    "re_result2=phone_pattern_2.search(text1)\n",
    "if re_result2 is not None:\n",
    "    print(re_result2.group())\n",
    "    print(re_result2.group(1))\n",
    "    print(re_result2.group(2))\n",
    "    print(re_result2.groups())"
   ]
  },
  {
   "cell_type": "markdown",
   "metadata": {},
   "source": [
    "- For special characters like '(' we can use backspace to escape in regular expressions."
   ]
  },
  {
   "cell_type": "code",
   "execution_count": 4,
   "metadata": {},
   "outputs": [
    {
     "name": "stdout",
     "output_type": "stream",
     "text": [
      "(232)-324-6758\n",
      "(232)\n",
      "324-6758\n",
      "('(232)', '324-6758')\n"
     ]
    }
   ],
   "source": [
    "phone_pattern_2=re.compile(r'(\\(\\d\\d\\d\\))-(\\d\\d\\d-\\d\\d\\d\\d)')\n",
    "text2='One can contact Cal Tech on 234-432-2564 or (232)-324-6758.'\n",
    "re_result2=phone_pattern_2.search(text2)\n",
    "if re_result2 is not None:\n",
    "    print(re_result2.group())\n",
    "    print(re_result2.group(1))\n",
    "    print(re_result2.group(2))\n",
    "    print(re_result2.groups())"
   ]
  },
  {
   "cell_type": "code",
   "execution_count": 8,
   "metadata": {},
   "outputs": [
    {
     "data": {
      "text/plain": [
       "<re.Match object; span=(11, 15), match='read'>"
      ]
     },
     "execution_count": 8,
     "metadata": {},
     "output_type": "execute_result"
    }
   ],
   "source": [
    "pattern_3=re.compile(r'read(ing)?')\n",
    "result3=pattern_3.search('One should read and keep on reading throught out their life.')\n",
    "result3.group()\n",
    "# ? gives non-greedy search\n",
    "# default of regex is greedy\n",
    "result3"
   ]
  },
  {
   "cell_type": "code",
   "execution_count": 48,
   "metadata": {},
   "outputs": [
    {
     "data": {
      "text/plain": [
       "False"
      ]
     },
     "execution_count": 48,
     "metadata": {},
     "output_type": "execute_result"
    }
   ],
   "source": [
    "bool('')"
   ]
  },
  {
   "cell_type": "code",
   "execution_count": 1,
   "metadata": {},
   "outputs": [],
   "source": [
    "import re"
   ]
  },
  {
   "cell_type": "code",
   "execution_count": 18,
   "metadata": {},
   "outputs": [
    {
     "data": {
      "text/plain": [
       "[]"
      ]
     },
     "execution_count": 18,
     "metadata": {},
     "output_type": "execute_result"
    }
   ],
   "source": [
    "l='32,121,123,121'\n",
    "pattern_3=re.compile(r'(,\\d{3}(,|))')\n",
    "result3=pattern_3.findall(l)\n",
    "result3"
   ]
  },
  {
   "cell_type": "code",
   "execution_count": 39,
   "metadata": {},
   "outputs": [
    {
     "data": {
      "text/plain": [
       "'Ashok Nakamoto'"
      ]
     },
     "execution_count": 39,
     "metadata": {},
     "output_type": "execute_result"
    }
   ],
   "source": [
    "l='Ashok Nakamoto'\n",
    "pattern_3=re.compile(r'[A-Z]\\w+\\sNakamoto')\n",
    "result3=pattern_3.search(l)\n",
    "result3.group()"
   ]
  },
  {
   "cell_type": "code",
   "execution_count": 31,
   "metadata": {},
   "outputs": [
    {
     "name": "stdout",
     "output_type": "stream",
     "text": [
      "Alice eats apples.\n",
      "Bob pets cats.\n",
      "Carol throws baseballs.\n",
      "Alice throws Apples.\n",
      "BOB EATS CATS.\n",
      "RoboCop eats apples.\n"
     ]
    }
   ],
   "source": [
    "l1='Alice eats apples.'\n",
    "l2='Bob pets cats.'\n",
    "l3='Carol throws baseballs.'\n",
    "l4='Alice throws Apples.'\n",
    "l5='BOB EATS CATS.'\n",
    "l6='RoboCop eats apples.'\n",
    "for l in [l1,l2,l3,l4,l5,l6]:\n",
    "    pattern_3=re.compile(r'(Alice|Bob|Carol) (eats|pets|throws) (apples|cats|baseballs).',re.IGNORECASE)\n",
    "    result3=pattern_3.search(l)\n",
    "    if result3 is None:\n",
    "        print(l)\n",
    "    else:\n",
    "        \n",
    "        print(result3.group())"
   ]
  }
 ],
 "metadata": {
  "interpreter": {
   "hash": "365d70965140afb04a698773bfdd31483bc82432b779112c2a78b5de7c16d125"
  },
  "kernelspec": {
   "display_name": "Python 3.8.5 ('base')",
   "language": "python",
   "name": "python3"
  },
  "language_info": {
   "codemirror_mode": {
    "name": "ipython",
    "version": 3
   },
   "file_extension": ".py",
   "mimetype": "text/x-python",
   "name": "python",
   "nbconvert_exporter": "python",
   "pygments_lexer": "ipython3",
   "version": "3.8.5"
  },
  "orig_nbformat": 4
 },
 "nbformat": 4,
 "nbformat_minor": 2
}
