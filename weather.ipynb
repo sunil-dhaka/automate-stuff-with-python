{
 "cells": [
  {
   "cell_type": "code",
   "execution_count": null,
   "source": [
    "import webbrowser\n",
    "import requests\n",
    "import json\n",
    "import PyInquirer\n",
    "import time\n",
    "from PyInquirer import prompt"
   ],
   "outputs": [],
   "metadata": {}
  },
  {
   "cell_type": "code",
   "execution_count": null,
   "source": [
    "try_count=0\n",
    "status_green=False\n",
    "while(status_green==False and try_count<2): # tries two times\n",
    "    # input\n",
    "    key=input('Please paste your api key:')\n",
    "    query=input(\"Which city's weather info do you want to get:\")\n",
    "    r=requests.get('https://dataservice.accuweather.com/locations/v1/cities/search',params={\n",
    "        'apikey':key,\n",
    "        'q':query\n",
    "    })\n",
    "\n",
    "    if r.status_code==200:\n",
    "        print('We are good to go.')\n",
    "        status_green=True\n",
    "    else:\n",
    "        print('please re-enter your api key and query location.')\n",
    "        try_count+=1"
   ],
   "outputs": [],
   "metadata": {}
  },
  {
   "cell_type": "code",
   "execution_count": null,
   "source": [
    "data_obtained=r.json()"
   ],
   "outputs": [],
   "metadata": {}
  },
  {
   "cell_type": "code",
   "execution_count": null,
   "source": [
    "data_obtained[0]"
   ],
   "outputs": [],
   "metadata": {}
  },
  {
   "cell_type": "code",
   "execution_count": null,
   "source": [
    "len(data_obtained[0].keys())"
   ],
   "outputs": [],
   "metadata": {}
  },
  {
   "cell_type": "code",
   "execution_count": null,
   "source": [
    "data_obtained=r.json()\n",
    "if len(data_obtained)<1:\n",
    "    print('please try agian with a vaild city name')\n",
    "else:\n",
    "    # only for first result this shows options and corresponding results\n",
    "    option_list=list()\n",
    "    for option in data_obtained[0]: \n",
    "        option_list.append(option)\n",
    "\n",
    "    option_list.append('Exit')\n",
    "    options=[\n",
    "        {\n",
    "            'type': 'checkbox',\n",
    "            'name': 'weather_options',\n",
    "            'message': 'Select which option to show',\n",
    "            'choices': option_list\n",
    "        }\n",
    "    ]\n",
    "    \n",
    "    choice=prompt(options)\n",
    "    if choice['weather_option']=='Exit':\n",
    "        print('Thank you for using weather service')\n",
    "    else:\n",
    "        print(data_obtained[0][choice['weathe_option']])\n",
    "\n",
    "## to do\n",
    "# add all available cities from search for user to choose\n",
    "# give information in more clean format "
   ],
   "outputs": [],
   "metadata": {}
  }
 ],
 "metadata": {
  "interpreter": {
   "hash": "20d64e6457634db286bb2f57e568cdcaaf14f5fbfe37d467c75a4a80d0f4d780"
  },
  "kernelspec": {
   "name": "python3",
   "display_name": "Python 3.8.5 64-bit ('base': conda)"
  },
  "language_info": {
   "codemirror_mode": {
    "name": "ipython",
    "version": 3
   },
   "file_extension": ".py",
   "mimetype": "text/x-python",
   "name": "python",
   "nbconvert_exporter": "python",
   "pygments_lexer": "ipython3",
   "version": "3.8.5"
  }
 },
 "nbformat": 4,
 "nbformat_minor": 2
}