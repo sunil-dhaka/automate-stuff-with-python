{
 "cells": [
  {
   "cell_type": "code",
   "execution_count": 38,
   "source": [
    "import requests\n",
    "from bs4 import BeautifulSoup as bs"
   ],
   "outputs": [],
   "metadata": {}
  },
  {
   "cell_type": "code",
   "execution_count": 39,
   "source": [
    "\n",
    "link='https://nostarch.com/catalog/linux-bsd-unix'\n",
    "\n",
    "r=requests.get(link)\n",
    "\n",
    "print('Status of request is: ',r.status_code)\n",
    "soup=bs(r.text,features='html.parser')\n"
   ],
   "outputs": [
    {
     "output_type": "stream",
     "name": "stdout",
     "text": [
      "Status of request is:  200\n"
     ]
    }
   ],
   "metadata": {}
  },
  {
   "cell_type": "code",
   "execution_count": 40,
   "source": [
    "#######\n",
    "# ::return object is a list::\n",
    "# id= #id-name\n",
    "# class=.class-name\n",
    "# element=element-tag\n",
    "#######\n",
    "# attrs\n",
    "# getText()\n",
    "# str()\n",
    "# get() :: other option for attrs dictionary\n",
    "#######"
   ],
   "outputs": [],
   "metadata": {}
  },
  {
   "cell_type": "markdown",
   "source": [
    "### example of CSS class by selector on `BS-Object`"
   ],
   "metadata": {}
  },
  {
   "cell_type": "code",
   "execution_count": 41,
   "source": [
    "image_data=soup.select('.product-thumbnail')\n",
    "discription_data=soup.select('.product-subtitle')\n",
    "author_data=soup.select('.product-author')\n",
    "book_price=soup.select('.uc-price')\n",
    "n=len(author_data)\n",
    "print('NO of total books on page link: ',n)"
   ],
   "outputs": [
    {
     "output_type": "stream",
     "name": "stdout",
     "text": [
      "NO of total books on page link:  22\n"
     ]
    }
   ],
   "metadata": {}
  },
  {
   "cell_type": "code",
   "execution_count": 42,
   "source": [
    "## get book details on the page\n",
    "name=[]\n",
    "image=[]\n",
    "discription=[]\n",
    "author=[]\n",
    "price=[]\n",
    "for i in range(n):\n",
    "    discription.append(discription_data[i].getText())\n",
    "    price.append(book_price[i].getText())\n",
    "    author.append(author_data[i].getText()[3:])\n",
    "    data_dict=image_data[i].select('img')[0]\n",
    "    name.append(data_dict.get('title'))\n",
    "    image.append(data_dict['src'])\n",
    "\n",
    "    # can store in pandas df and export"
   ],
   "outputs": [],
   "metadata": {}
  }
 ],
 "metadata": {
  "orig_nbformat": 4,
  "language_info": {
   "name": "python",
   "version": "3.8.5",
   "mimetype": "text/x-python",
   "codemirror_mode": {
    "name": "ipython",
    "version": 3
   },
   "pygments_lexer": "ipython3",
   "nbconvert_exporter": "python",
   "file_extension": ".py"
  },
  "kernelspec": {
   "name": "python3",
   "display_name": "Python 3.8.5 64-bit ('base': conda)"
  },
  "interpreter": {
   "hash": "20d64e6457634db286bb2f57e568cdcaaf14f5fbfe37d467c75a4a80d0f4d780"
  }
 },
 "nbformat": 4,
 "nbformat_minor": 2
}