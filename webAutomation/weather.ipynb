{
 "cells": [
  {
   "cell_type": "markdown",
   "source": [
    "## this file is to test .py scripts chuncks"
   ],
   "metadata": {}
  },
  {
   "cell_type": "code",
   "execution_count": 10,
   "source": [
    "import webbrowser\n",
    "import requests\n",
    "import json\n",
    "from bs4 import BeautifulSoup as bs\n",
    "#import PyInquirer\n",
    "import time\n",
    "#from PyInquirer import prompt"
   ],
   "outputs": [],
   "metadata": {}
  },
  {
   "cell_type": "markdown",
   "source": [
    "# weather"
   ],
   "metadata": {}
  },
  {
   "cell_type": "code",
   "execution_count": null,
   "source": [
    "try_count=0\n",
    "status_green=False\n",
    "while(status_green==False and try_count<2): # tries two times\n",
    "    # input\n",
    "    key=input('Please paste your api key:')\n",
    "    query=input(\"Which city's weather info do you want to get:\")\n",
    "    r=requests.get('https://dataservice.accuweather.com/locations/v1/cities/search',params={\n",
    "        'apikey':key,\n",
    "        'q':query\n",
    "    })\n",
    "\n",
    "    if r.status_code==200:\n",
    "        print('We are good to go.')\n",
    "        status_green=True\n",
    "    else:\n",
    "        print('please re-enter your api key and query location.')\n",
    "        try_count+=1"
   ],
   "outputs": [],
   "metadata": {}
  },
  {
   "cell_type": "code",
   "execution_count": null,
   "source": [
    "data_obtained=r.json()"
   ],
   "outputs": [],
   "metadata": {}
  },
  {
   "cell_type": "code",
   "execution_count": null,
   "source": [
    "data_obtained[0]"
   ],
   "outputs": [],
   "metadata": {}
  },
  {
   "cell_type": "code",
   "execution_count": null,
   "source": [
    "len(data_obtained[0].keys())"
   ],
   "outputs": [],
   "metadata": {}
  },
  {
   "cell_type": "code",
   "execution_count": null,
   "source": [
    "data_obtained=r.json()\n",
    "if len(data_obtained)<1:\n",
    "    print('please try agian with a vaild city name')\n",
    "else:\n",
    "    # only for first result this shows options and corresponding results\n",
    "    option_list=list()\n",
    "    for option in data_obtained[0]: \n",
    "        option_list.append(option)\n",
    "\n",
    "    option_list.append('Exit')\n",
    "    options=[\n",
    "        {\n",
    "            'type': 'checkbox',\n",
    "            'name': 'weather_options',\n",
    "            'message': 'Select which option to show',\n",
    "            'choices': option_list\n",
    "        }\n",
    "    ]\n",
    "    \n",
    "    choice=prompt(options)\n",
    "    if choice['weather_option']=='Exit':\n",
    "        print('Thank you for using weather service')\n",
    "    else:\n",
    "        print(data_obtained[0][choice['weathe_option']])\n",
    "\n",
    "## to do\n",
    "# add all available cities from search for user to choose\n",
    "# give information in more clean format "
   ],
   "outputs": [],
   "metadata": {}
  },
  {
   "cell_type": "markdown",
   "source": [
    "# downloader"
   ],
   "metadata": {}
  },
  {
   "cell_type": "code",
   "execution_count": 28,
   "source": [
    "query=input()\n",
    "r=requests.get('https://www.gutenberg.org/ebooks/search/?query='+query)\n",
    "if r.status_code==requests.codes.ok:\n",
    "    print('We were able to search for your query.')\n",
    "    soup=bs(r.text,features='html.parser')\n",
    "    if len(soup.find_all('li',{'class':'booklink'}))<1:\n",
    "        print('your query does not have any results on PG.')\n",
    "    else:\n",
    "        #bookshelves_page=[]\n",
    "        book_name=[]\n",
    "        book_link=[]\n",
    "        book_cover_link=[]\n",
    "        author=[]\n",
    "        downloads_count=[]\n",
    "        for book in soup.find_all('li',{'class':'booklink'}):\n",
    "            #bookshelves_page.append(bookshelves_pages_titles[i])\n",
    "            book_link.append('https://www.gutenberg.org'+book.find('a').get('href'))\n",
    "            if book.find('img') != None:\n",
    "                book_cover_link.append('https://www.gutenberg.org'+book.find('img').get('src'))\n",
    "            else:\n",
    "                book_cover_link.append('notFound')\n",
    "            if book.find('span',{'class':'title'}) != None:\n",
    "                book_name.append(book.find('span',{'class':'title'}).string)\n",
    "            else:\n",
    "                book_name.append('notFound')\n",
    "            if book.find('span',{'class':'subtitle'}) != None:\n",
    "                author.append(book.find('span',{'class':'subtitle'}).string)\n",
    "            else:\n",
    "                author.append('notFound')\n",
    "            if book.find('span',{'class':'extra'}) != None:\n",
    "                downloads_count.append(book.find('span',{'class':'extra'}).string.split(' ')[0])\n",
    "            else:\n",
    "                downloads_count.append('notFound')\n",
    "        book_promp_message=[]\n",
    "        for i in range(len(book_name)):\n",
    "            book_promp_message.append(str(i+1).zfill(2)+' ) Book -- '+book_name[i]+' -- by author -- '+author[i]+' -- with download count -- '+downloads_count[i])\n",
    "        #used from search.py\n",
    "        which_engine=[\n",
    "                {\n",
    "                    'type':'list',\n",
    "                    'name':'type',\n",
    "                    'message':'please choose a book:',\n",
    "                    'choices':book_promp_message,\n",
    "                    'default':0\n",
    "                }\n",
    "            ]\n",
    "        print('We found', len(book_promp_message) ,'results. Choose -->')\n",
    "        #answer=prompt(which_engine)\n",
    "        #book_choosen_number_on_list=int(answer['type'][:2])-1\n",
    "\n",
    "else:\n",
    "    print('check your damn internet.')\n"
   ],
   "outputs": [
    {
     "output_type": "stream",
     "name": "stdout",
     "text": [
      "We were able to search for your query.\n",
      "your query does not have any results on PG.\n"
     ]
    }
   ],
   "metadata": {}
  },
  {
   "cell_type": "code",
   "execution_count": 30,
   "source": [
    "book_link[0].split('/')"
   ],
   "outputs": [
    {
     "output_type": "execute_result",
     "data": {
      "text/plain": [
       "['https:', '', 'www.gutenberg.org', 'ebooks', '16']"
      ]
     },
     "metadata": {},
     "execution_count": 30
    }
   ],
   "metadata": {}
  }
 ],
 "metadata": {
  "interpreter": {
   "hash": "20d64e6457634db286bb2f57e568cdcaaf14f5fbfe37d467c75a4a80d0f4d780"
  },
  "kernelspec": {
   "name": "python3",
   "display_name": "Python 3.8.5 64-bit ('base': conda)"
  },
  "language_info": {
   "codemirror_mode": {
    "name": "ipython",
    "version": 3
   },
   "file_extension": ".py",
   "mimetype": "text/x-python",
   "name": "python",
   "nbconvert_exporter": "python",
   "pygments_lexer": "ipython3",
   "version": "3.8.5"
  }
 },
 "nbformat": 4,
 "nbformat_minor": 2
}