{
 "cells": [
  {
   "cell_type": "code",
   "execution_count": 2,
   "source": [
    "import requests\n",
    "from bs4 import BeautifulSoup as bs\n",
    "import os\n",
    "from datetime import date\n",
    "import json\n",
    "## can't import this way\n",
    "# import selenium\n",
    "from selenium import webdriver"
   ],
   "outputs": [],
   "metadata": {}
  },
  {
   "cell_type": "code",
   "execution_count": 17,
   "source": [
    "browser=webdriver.Firefox()\n",
    "print(type(browser))"
   ],
   "outputs": [
    {
     "output_type": "stream",
     "name": "stdout",
     "text": [
      "<class 'selenium.webdriver.firefox.webdriver.WebDriver'>\n"
     ]
    }
   ],
   "metadata": {}
  },
  {
   "cell_type": "code",
   "execution_count": 19,
   "source": [
    "browser.get('https://xkcd.com/')"
   ],
   "outputs": [],
   "metadata": {}
  },
  {
   "cell_type": "code",
   "execution_count": 32,
   "source": [
    "s=browser.find_elements_by_class_name('comicNav')"
   ],
   "outputs": [],
   "metadata": {}
  },
  {
   "cell_type": "code",
   "execution_count": 36,
   "source": [
    "print(s[0].location)\n",
    "s[1].location"
   ],
   "outputs": [
    {
     "output_type": "stream",
     "name": "stdout",
     "text": [
      "{'x': 245, 'y': 328}\n"
     ]
    },
    {
     "output_type": "execute_result",
     "data": {
      "text/plain": [
       "{'x': 245, 'y': 830}"
      ]
     },
     "metadata": {},
     "execution_count": 36
    }
   ],
   "metadata": {}
  },
  {
   "cell_type": "code",
   "execution_count": 42,
   "source": [
    "elem1=browser.find_elements_by_id('comic')\n",
    "print(elem1[0].tag_name)\n",
    "print(len(elem1))"
   ],
   "outputs": [
    {
     "output_type": "stream",
     "name": "stdout",
     "text": [
      "div\n",
      "1\n"
     ]
    }
   ],
   "metadata": {}
  },
  {
   "cell_type": "code",
   "execution_count": 49,
   "source": [
    "elem2=browser.find_element_by_id('topContainer')"
   ],
   "outputs": [],
   "metadata": {}
  },
  {
   "cell_type": "code",
   "execution_count": 50,
   "source": [
    "print(elem2.tag_name)\n",
    "print(elem2.text)"
   ],
   "outputs": [
    {
     "output_type": "stream",
     "name": "stdout",
     "text": [
      "div\n",
      "Archive\n",
      "What If?\n",
      "Blag\n",
      "How To\n",
      "Store\n",
      "About\n",
      "Feed • Email\n",
      "TW • FB • IG\n",
      "A webcomic of romance,\n",
      "sarcasm, math, and language.\n"
     ]
    }
   ],
   "metadata": {}
  },
  {
   "cell_type": "code",
   "execution_count": 52,
   "source": [
    "text_elem2=elem2.text\n",
    "print(len(text_elem2))\n",
    "print(type(text_elem2)) # it is a string"
   ],
   "outputs": [
    {
     "output_type": "execute_result",
     "data": {
      "text/plain": [
       "118"
      ]
     },
     "metadata": {},
     "execution_count": 52
    }
   ],
   "metadata": {}
  },
  {
   "cell_type": "code",
   "execution_count": 58,
   "source": [
    "elem3=browser.find_element_by_id('middleContainer')\n"
   ],
   "outputs": [],
   "metadata": {}
  },
  {
   "cell_type": "code",
   "execution_count": 61,
   "source": [
    "text_elem3=elem3.text\n",
    "print(len(text_elem3))\n",
    "print(elem3.location)\n",
    "print(elem3.get_attribute('class'))"
   ],
   "outputs": [
    {
     "output_type": "stream",
     "name": "stdout",
     "text": [
      "226\n",
      "{'x': 84, 'y': 266}\n",
      "box\n"
     ]
    }
   ],
   "metadata": {}
  },
  {
   "cell_type": "code",
   "execution_count": 63,
   "source": [
    "elem4=browser.find_elements_by_partial_link_text('comic')"
   ],
   "outputs": [],
   "metadata": {}
  },
  {
   "cell_type": "code",
   "execution_count": 65,
   "source": [
    "type(elem4)\n",
    "print(len(elem4))"
   ],
   "outputs": [
    {
     "output_type": "stream",
     "name": "stdout",
     "text": [
      "1\n"
     ]
    }
   ],
   "metadata": {}
  },
  {
   "cell_type": "code",
   "execution_count": 69,
   "source": [
    "print(elem4[0].location)\n",
    "print(elem4[0].text)"
   ],
   "outputs": [
    {
     "output_type": "stream",
     "name": "stdout",
     "text": [
      "{'x': 394, 'y': 753}\n",
      "https://imgs.xkcd.com/comics/two_factor_security_key.png\n"
     ]
    }
   ],
   "metadata": {}
  },
  {
   "cell_type": "code",
   "execution_count": 71,
   "source": [
    "print(elem4[0].is_selected())\n",
    "print(elem4[0].is_selected())"
   ],
   "outputs": [
    {
     "output_type": "stream",
     "name": "stdout",
     "text": [
      "False\n",
      "False\n"
     ]
    }
   ],
   "metadata": {}
  },
  {
   "cell_type": "code",
   "execution_count": 75,
   "source": [
    "print(elem4[0].tag_name)\n"
   ],
   "outputs": [
    {
     "output_type": "stream",
     "name": "stdout",
     "text": [
      "a\n"
     ]
    }
   ],
   "metadata": {}
  },
  {
   "cell_type": "code",
   "execution_count": 77,
   "source": [
    "\n",
    "# refresh \n",
    "browser.refresh()\n"
   ],
   "outputs": [],
   "metadata": {}
  },
  {
   "cell_type": "code",
   "execution_count": 78,
   "source": [
    "\n",
    "# go back\n",
    "browser.back()\n"
   ],
   "outputs": [],
   "metadata": {}
  },
  {
   "cell_type": "code",
   "execution_count": 79,
   "source": [
    "# forward\n",
    "browser.forward()"
   ],
   "outputs": [],
   "metadata": {}
  },
  {
   "cell_type": "code",
   "execution_count": 80,
   "source": [
    "\n",
    "# close this broswer\n",
    "browser.close()"
   ],
   "outputs": [],
   "metadata": {}
  },
  {
   "cell_type": "code",
   "execution_count": 76,
   "source": [
    "tab2=webdriver.Firefox()\n",
    "tab2.get('https://radio.garden/')"
   ],
   "outputs": [],
   "metadata": {}
  },
  {
   "cell_type": "code",
   "execution_count": 83,
   "source": [
    "ram1=tab2.find_element_by_css_selector('svg')"
   ],
   "outputs": [],
   "metadata": {}
  },
  {
   "cell_type": "code",
   "execution_count": 84,
   "source": [
    "type(ram1)"
   ],
   "outputs": [
    {
     "output_type": "execute_result",
     "data": {
      "text/plain": [
       "selenium.webdriver.firefox.webelement.FirefoxWebElement"
      ]
     },
     "metadata": {},
     "execution_count": 84
    }
   ],
   "metadata": {}
  },
  {
   "cell_type": "code",
   "execution_count": 88,
   "source": [
    "ram1.location"
   ],
   "outputs": [
    {
     "output_type": "execute_result",
     "data": {
      "text/plain": [
       "{'x': 911, 'y': 326}"
      ]
     },
     "metadata": {},
     "execution_count": 88
    }
   ],
   "metadata": {}
  },
  {
   "cell_type": "code",
   "execution_count": 90,
   "source": [
    "try:\n",
    "    ram2=tab2.find_element_by_class_name('Control_control__1ympy Control_modPlay__2uUh2 Control_isCollapsed__2SHRs')\n",
    "except Exception as e:\n",
    "    print(e)"
   ],
   "outputs": [
    {
     "output_type": "stream",
     "name": "stdout",
     "text": [
      "Message: Unable to locate element: .Control_control__1ympy Control_modPlay__2uUh2 Control_isCollapsed__2SHRs\n",
      "\n"
     ]
    }
   ],
   "metadata": {}
  },
  {
   "cell_type": "code",
   "execution_count": 104,
   "source": [
    "ram3=tab2.find_elements_by_tag_name('svg')"
   ],
   "outputs": [],
   "metadata": {}
  },
  {
   "cell_type": "code",
   "execution_count": 110,
   "source": [
    "for i in range(len(ram3)):\n",
    "    print(ram3[i].is_enabled())\n",
    "    "
   ],
   "outputs": [
    {
     "output_type": "stream",
     "name": "stdout",
     "text": [
      "True\n",
      "True\n",
      "True\n",
      "True\n",
      "True\n",
      "True\n",
      "True\n",
      "True\n",
      "True\n",
      "True\n",
      "True\n",
      "True\n",
      "True\n",
      "True\n",
      "True\n",
      "True\n",
      "True\n",
      "True\n",
      "True\n",
      "True\n",
      "True\n",
      "True\n",
      "True\n",
      "True\n",
      "True\n",
      "True\n",
      "True\n",
      "True\n",
      "True\n",
      "True\n"
     ]
    }
   ],
   "metadata": {}
  },
  {
   "cell_type": "code",
   "execution_count": null,
   "source": [
    "tab2.close()"
   ],
   "outputs": [],
   "metadata": {}
  },
  {
   "cell_type": "code",
   "execution_count": 112,
   "source": [
    "fire=webdriver.Firefox()\n",
    "fire.get('https://www.youtube.com/')"
   ],
   "outputs": [],
   "metadata": {}
  },
  {
   "cell_type": "code",
   "execution_count": 120,
   "source": [
    "vid1=fire.find_elements_by_id('thumbnail')"
   ],
   "outputs": [],
   "metadata": {}
  },
  {
   "cell_type": "code",
   "execution_count": 123,
   "source": [
    "vid1[7].text"
   ],
   "outputs": [
    {
     "output_type": "execute_result",
     "data": {
      "text/plain": [
       "'2:30'"
      ]
     },
     "metadata": {},
     "execution_count": 123
    }
   ],
   "metadata": {}
  },
  {
   "cell_type": "code",
   "execution_count": 124,
   "source": [
    "vid1[7].click()"
   ],
   "outputs": [],
   "metadata": {}
  },
  {
   "cell_type": "code",
   "execution_count": 130,
   "source": [
    "fire.refresh()"
   ],
   "outputs": [],
   "metadata": {}
  },
  {
   "cell_type": "code",
   "execution_count": 131,
   "source": [
    "fire.close()"
   ],
   "outputs": [],
   "metadata": {}
  },
  {
   "cell_type": "code",
   "execution_count": 3,
   "source": [
    "fire1=webdriver.Firefox()\n",
    "fire1.get('https://github.com')"
   ],
   "outputs": [],
   "metadata": {}
  },
  {
   "cell_type": "code",
   "execution_count": 4,
   "source": [
    "click1=fire1.find_element_by_link_text('Sign up')"
   ],
   "outputs": [],
   "metadata": {}
  },
  {
   "cell_type": "code",
   "execution_count": 6,
   "source": [
    "link=click1.get_attribute('href')\n",
    "fire1.close()"
   ],
   "outputs": [],
   "metadata": {}
  },
  {
   "cell_type": "code",
   "execution_count": 8,
   "source": [
    "fire2=webdriver.Firefox()\n",
    "fire2.get(link)"
   ],
   "outputs": [],
   "metadata": {}
  },
  {
   "cell_type": "code",
   "execution_count": 16,
   "source": [
    "link2=fire2.find_element_by_partial_link_text('Sign in')"
   ],
   "outputs": [],
   "metadata": {}
  },
  {
   "cell_type": "code",
   "execution_count": 17,
   "source": [
    "link3=link2.get_attribute('href')"
   ],
   "outputs": [],
   "metadata": {}
  },
  {
   "cell_type": "markdown",
   "source": [
    "# is there a way to get around closing and openeing webpages and working in onw itself"
   ],
   "metadata": {}
  },
  {
   "cell_type": "code",
   "execution_count": 19,
   "source": [
    "fire2.close()\n"
   ],
   "outputs": [],
   "metadata": {}
  },
  {
   "cell_type": "code",
   "execution_count": 21,
   "source": [
    "link3"
   ],
   "outputs": [
    {
     "output_type": "execute_result",
     "data": {
      "text/plain": [
       "'https://github.com/login?return_to=https%3A%2F%2Fgithub.com%2Fsignup%3Fref_cta%3DSign%2Bup%26ref_loc%3Dheader%2Blogged%2Bout%26ref_page%3D%252F%26source%3Dheader-home'"
      ]
     },
     "metadata": {},
     "execution_count": 21
    }
   ],
   "metadata": {}
  },
  {
   "cell_type": "code",
   "execution_count": 2,
   "source": [
    "web=webdriver.Firefox()\n",
    "web.get('https://radio.garden')"
   ],
   "outputs": [],
   "metadata": {}
  },
  {
   "cell_type": "code",
   "execution_count": 8,
   "source": [
    "controller=web.find_element_by_class_name('PlayBar_controlsContainer__2eO6e')"
   ],
   "outputs": [],
   "metadata": {}
  },
  {
   "cell_type": "code",
   "execution_count": 11,
   "source": [
    "controller.tag_name"
   ],
   "outputs": [
    {
     "output_type": "execute_result",
     "data": {
      "text/plain": [
       "'div'"
      ]
     },
     "metadata": {},
     "execution_count": 11
    }
   ],
   "metadata": {}
  },
  {
   "cell_type": "code",
   "execution_count": 25,
   "source": [
    "root=web.find_element_by_id('root')"
   ],
   "outputs": [],
   "metadata": {}
  },
  {
   "cell_type": "code",
   "execution_count": 27,
   "source": [
    "web.close()"
   ],
   "outputs": [],
   "metadata": {}
  },
  {
   "cell_type": "markdown",
   "source": [
    "###### uncomment a link and work with it\n",
    "link='https://web.archive.org/web/20200312001206/http://radio.garden/api/content/places'\n",
    "#link='http://radio.garden/api/ara/content/places' # --the best resource\n",
    "#link='http://radio.garden/api/ara/content/page/W9g0lZfQ'\n",
    "#link='http://radio.garden/api/ara/content/channel/tMGsmGxF'\n",
    "#link='http://radio.garden/api/ara/content/listen/tMGsmGxF/channel.mp3'\n",
    "######\n",
    "r=requests.get(link)\n",
    "print('Status from link, ',r.status_code)\n",
    "soup=bs(r.text,features='html.parser')\n",
    "print(type(soup))"
   ],
   "metadata": {}
  },
  {
   "cell_type": "code",
   "execution_count": null,
   "source": [],
   "outputs": [],
   "metadata": {}
  },
  {
   "cell_type": "code",
   "execution_count": null,
   "source": [],
   "outputs": [],
   "metadata": {}
  },
  {
   "cell_type": "code",
   "execution_count": null,
   "source": [],
   "outputs": [],
   "metadata": {}
  },
  {
   "cell_type": "code",
   "execution_count": null,
   "source": [],
   "outputs": [],
   "metadata": {}
  },
  {
   "cell_type": "code",
   "execution_count": null,
   "source": [],
   "outputs": [],
   "metadata": {}
  },
  {
   "cell_type": "code",
   "execution_count": null,
   "source": [],
   "outputs": [],
   "metadata": {}
  },
  {
   "cell_type": "code",
   "execution_count": null,
   "source": [],
   "outputs": [],
   "metadata": {}
  },
  {
   "cell_type": "code",
   "execution_count": null,
   "source": [],
   "outputs": [],
   "metadata": {}
  },
  {
   "cell_type": "code",
   "execution_count": null,
   "source": [],
   "outputs": [],
   "metadata": {}
  },
  {
   "cell_type": "markdown",
   "source": [
    "# convert bs4.BeautifulSoup into dictionary\n",
    "data_dict=json.loads(str(soup))"
   ],
   "metadata": {}
  },
  {
   "cell_type": "markdown",
   "source": [
    "print('total no of keys in first level dict: ',len(data_dict))\n",
    "print('api verion: ',data_dict['apiVersion'])\n",
    "print('radio data version: ',data_dict['version'])"
   ],
   "metadata": {}
  },
  {
   "cell_type": "markdown",
   "source": [
    "radio_data_dict=data_dict['data']['places']['list']\n",
    "print('total no of radio available in radio-garden version:',data_dict['version'],'are ----> ',len(radio_data_dict),' <-----')"
   ],
   "metadata": {}
  },
  {
   "cell_type": "markdown",
   "source": [
    "## what to do with this nice and cheap data\n",
    "# radio-garden itself is a nice product \n",
    "# can make a connector from terminal \n",
    "# get a list of all radio station website and give it to rhythmbox"
   ],
   "metadata": {}
  },
  {
   "cell_type": "markdown",
   "source": [
    "I'm trying to do something similar but using an MT7688 Duo with GNU/Linux OpenWRT and a NEXTION 3.5\" display. ( https://www.seeedstudio.com/LinkIt-Smart-7688-Duo.html / https://nextion.tech/basic-series-introduction/)\n",
    "\n",
    "This is what I found of the current API doing a bit of reverse engineering:\n",
    "\n",
    "#Get all country and cities\n",
    "\n",
    "http://radio.garden/api/ara/content/places\n",
    "\n",
    "(stations by city, gps coordinates)\n",
    "\n",
    "#Get info of city and Stations by city (last id is id_city)\n",
    "\n",
    "http://radio.garden/api/ara/content/page/W9g0lZfQ\n",
    "\n",
    "#Get info of specific station (last id is id_station)\n",
    "\n",
    "http://radio.garden/api/ara/content/channel/tMGsmGxF\n",
    "\n",
    "#Example Stream URL (id is id_station)\n",
    "\n",
    "http://radio.garden/api/ara/content/listen/tMGsmGxF/channel.mp3\n",
    "\n",
    "We can collaborate on the project, write to me if you think it is a good idea. Will Radio Garden developers may be interested in us building a device? :)"
   ],
   "metadata": {}
  },
  {
   "cell_type": "markdown",
   "source": [
    "# XKCD code in markdown\n",
    "link='https://xkcd.com/'\n",
    "\n",
    "total_posts=int(soup.select('a[accesskey=\"p\"]')[0].get('href').strip('/'))+1\n",
    "# added one for current page\n",
    "# find it by using accesskey for previous page\n",
    "\n",
    "print('There are total',total_posts,' comics on XKCD webpage.')\n",
    "start=int(input('What is your starting integer for requested post --> '))\n",
    "end=int(input('What is your ending integer for requested post --> '))\n",
    "\n",
    "if start <= end:\n",
    "    os.makedirs('xkcd',exist_ok=True) # makes a home directory named 'xkcd' if does not exist\n",
    "    post_link=list()\n",
    "    post_title=list()\n",
    "    requested_posts=end-start\n",
    "    for i in range(requested_posts+1):\n",
    "        curr_link='https://xkcd.com/'+str(i+start)\n",
    "        r_page=requests.get(curr_link)\n",
    "        if r_page.status_code!=200:\n",
    "            print('bad request')\n",
    "        else:\n",
    "            curr_soup=bs(r_page.text)\n",
    "            finder=curr_soup.select('div[id=\"comic\"] img')\n",
    "            if len(finder)<1:\n",
    "                print('could not find comic on this page. Going to next comic page ...')\n",
    "            else:\n",
    "                post_link.append('htpps:'+finder[0].get('src'))\n",
    "                post_title.append(str(i+start)+ ') '+finder[0].get('title')) \n",
    "                # just to keep tab what particular comic was about and store it in .txt file\n",
    "                print('Downloading comic %s ...'%post_link[-1])\n",
    "                image=open(os.path.join('xkcd',os.path.basename(post_link[-1])),'wb') # to store in xkcd folder created above\n",
    "                for image_chunk in r_page.iter_content(100000):\n",
    "                    image.write(image_chunk)\n",
    "                image.close()\n",
    "\n",
    "    with open(os.path.join('xkcd','titles.txt'), \"w+\") as file:\n",
    "        file.write('\\n'.join(post_title))\n",
    "    print('Downloading done.')\n",
    "\n",
    "else:\n",
    "    print('input is not valid')\n",
    "\n"
   ],
   "metadata": {}
  },
  {
   "cell_type": "code",
   "execution_count": null,
   "source": [],
   "outputs": [
    {
     "output_type": "stream",
     "name": "stdout",
     "text": [
      "0\n",
      "1\n"
     ]
    }
   ],
   "metadata": {}
  }
 ],
 "metadata": {
  "orig_nbformat": 4,
  "language_info": {
   "name": "python",
   "version": "3.8.5",
   "mimetype": "text/x-python",
   "codemirror_mode": {
    "name": "ipython",
    "version": 3
   },
   "pygments_lexer": "ipython3",
   "nbconvert_exporter": "python",
   "file_extension": ".py"
  },
  "kernelspec": {
   "name": "python3",
   "display_name": "Python 3.8.5 64-bit ('base': conda)"
  },
  "interpreter": {
   "hash": "20d64e6457634db286bb2f57e568cdcaaf14f5fbfe37d467c75a4a80d0f4d780"
  }
 },
 "nbformat": 4,
 "nbformat_minor": 2
}