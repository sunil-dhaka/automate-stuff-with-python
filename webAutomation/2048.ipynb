{
 "cells": [
  {
   "cell_type": "markdown",
   "source": [
    "- plays 2048 game for you and gets your score ultimately(may take your whole life but won't bother you; you do your work)\n",
    "- don't work it to hard"
   ],
   "metadata": {}
  },
  {
   "cell_type": "code",
   "execution_count": null,
   "source": [
    "from selenium import webdriver\n",
    "from selenium.webdriver.common.keys import Keys"
   ],
   "outputs": [],
   "metadata": {}
  },
  {
   "cell_type": "code",
   "execution_count": null,
   "source": [
    "d=webdriver.Firefox()\n",
    "d.get('https://play2048.co/')"
   ],
   "outputs": [],
   "metadata": {}
  },
  {
   "cell_type": "code",
   "execution_count": null,
   "source": [
    "# get the body tag\n",
    "s=d.find_element_by_tag_name('body')\n",
    "######### looped ############\n",
    "# play your first game with zero score and get some best score\n",
    "while(d.find_element_by_class_name('retry-button').is_displayed()==False):\n",
    "    s.send_keys(Keys.UP)\n",
    "    s.send_keys(Keys.DOWN)\n",
    "    s.send_keys(Keys.RIGHT)\n",
    "    s.send_keys(Keys.LEFT)\n"
   ],
   "outputs": [],
   "metadata": {}
  },
  {
   "cell_type": "code",
   "execution_count": null,
   "source": [
    "\n",
    "# now run it till you get better score function also print your scores\n",
    "d.find_element_by_class_name('retry-button').click()\n",
    "\n",
    "def scorrer(score=int(d.find_element_by_class_name('score-container').text)): # defualt is \n",
    "    best=int(d.find_element_by_class_name('best-container').text)\n",
    "    counter=0\n",
    "    # start it again\n",
    "    while(score < best):\n",
    "        while(d.find_element_by_class_name('retry-button').is_displayed()==False):\n",
    "            s.send_keys(Keys.UP)\n",
    "            s.send_keys(Keys.DOWN)\n",
    "            s.send_keys(Keys.RIGHT)\n",
    "            s.send_keys(Keys.LEFT)\n",
    "        score=int(d.find_element_by_class_name('score-container').text)\n",
    "        best=int(d.find_element_by_class_name('best-container').text)\n",
    "        print('score: ',score,'---------best: ',best)\n",
    "        d.find_element_by_class_name('retry-button').click()\n",
    "        counter+=1\n",
    "    print('Got you score after',counter,'many tries')\n"
   ],
   "outputs": [],
   "metadata": {}
  },
  {
   "cell_type": "code",
   "execution_count": null,
   "source": [
    "scorrer()"
   ],
   "outputs": [],
   "metadata": {}
  },
  {
   "cell_type": "code",
   "execution_count": null,
   "source": [
    "############ randomized ############\n",
    "import numpy as np\n",
    "dic={'1':'UP', '2':'RIGHT','3':'DOWN','4':'LEFT'}\n",
    "\n",
    "score=int(d.find_element_by_class_name('score-container').text)\n",
    "best=int(d.find_element_by_class_name('best-container').text)\n",
    "\n",
    "while(score < best):\n",
    "    while(d.find_element_by_class_name('retry-button').is_displayed()==False):\n",
    "        foo=str(np.random.randint(4)+1)\n",
    "        #print(dic[foo])\n",
    "        if dic[foo]=='UP':\n",
    "            s.send_keys(Keys.UP)\n",
    "        elif dic[foo]=='DOWN':\n",
    "            s.send_keys(Keys.DOWN)\n",
    "        elif dic[foo]=='RIGHT':\n",
    "            s.send_keys(Keys.RIGHT)\n",
    "        elif dic[foo]=='LEFT':\n",
    "            s.send_keys(Keys.LEFT)\n",
    "    score=int(d.find_element_by_class_name('score-container').text)\n",
    "    best=int(d.find_element_by_class_name('best-container').text)\n",
    "    print('score: ',score,'       best: ',best)\n",
    "    d.find_element_by_class_name('retry-button').click()\n",
    "    \n",
    "d.find_element_by_class_name('retry-button').click()\n",
    "# rand is worsr >\n",
    "\n"
   ],
   "outputs": [],
   "metadata": {}
  },
  {
   "cell_type": "code",
   "execution_count": null,
   "source": [],
   "outputs": [],
   "metadata": {}
  }
 ],
 "metadata": {
  "orig_nbformat": 4,
  "language_info": {
   "name": "python",
   "version": "3.8.5",
   "mimetype": "text/x-python",
   "codemirror_mode": {
    "name": "ipython",
    "version": 3
   },
   "pygments_lexer": "ipython3",
   "nbconvert_exporter": "python",
   "file_extension": ".py"
  },
  "kernelspec": {
   "name": "python3",
   "display_name": "Python 3.8.5 64-bit ('base': conda)"
  },
  "interpreter": {
   "hash": "20d64e6457634db286bb2f57e568cdcaaf14f5fbfe37d467c75a4a80d0f4d780"
  }
 },
 "nbformat": 4,
 "nbformat_minor": 2
}