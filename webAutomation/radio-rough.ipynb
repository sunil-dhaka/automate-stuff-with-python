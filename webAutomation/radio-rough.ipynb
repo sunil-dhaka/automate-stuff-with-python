{
 "cells": [
  {
   "cell_type": "code",
   "execution_count": 1,
   "source": [
    "from selenium import webdriver\n",
    "from selenium.webdriver.common.keys import Keys"
   ],
   "outputs": [],
   "metadata": {}
  },
  {
   "cell_type": "code",
   "execution_count": null,
   "source": [
    "radio=webdriver.Firefox()\n",
    "radio.get('https://radio.garden')"
   ],
   "outputs": [],
   "metadata": {}
  },
  {
   "cell_type": "code",
   "execution_count": 8,
   "source": [
    "def search_result_giver(query):\n",
    "    explore_favorites_search_settings=radio.find_elements_by_class_name('Tab_container__3GACT')\n",
    "    search=explore_favorites_search_settings[2]\n",
    "    if search.text=='Search':\n",
    "        #then only go ahead\n",
    "        # first click search\n",
    "        search.click()\n",
    "        #then give it the query search-input gotten from user\n",
    "        search_input=radio.find_element_by_id('search-input')\n",
    "        #to make sure it is clear\n",
    "        search_input.clear()\n",
    "        # git it query\n",
    "        search_input.send_keys(query)\n",
    "        # now we have some results and other wise not some results\n",
    "        names=radio.find_elements_by_class_name('ListItem_titleContainer__W5lqX')\n",
    "        links=radio.find_elements_by_class_name('ListItem_linkContainer__32x8m')\n",
    "        if len(names)>1:\n",
    "            total_radio_channels=len(names)-1 # to minus the svg-icon element\n",
    "            print('we have found ',total_radio_channels,' for your query.')\n",
    "            # get their names\n",
    "            names_text_link={} # to attach it with click links to play radio\n",
    "            for j in range(total_radio_channels):\n",
    "                names_text_link['@ '.join(names[i+1].text.split('\\n'))]=links[i+1] \n",
    "                # no list needed as can run down a key-list store loop\n",
    "                # and then rather then linking it with a string number :: why not just give the corresponding link element to it \n",
    "                #str(i+1) # this gets links[int(names_text_link[choosen])].click() -- boom blast\n",
    "            return names_text_link # dict is the return\n",
    "        else:\n",
    "            print('we found no results')\n",
    "            return 'noResults'\n",
    "\n",
    "    else:\n",
    "        print(\"we did not find your radio's search box\")\n",
    "        return 'noSearch'"
   ],
   "outputs": [],
   "metadata": {}
  },
  {
   "cell_type": "code",
   "execution_count": null,
   "source": [
    "# call above function on usery query\n",
    "query=input('Which radio station today ')\n",
    "fun_call=search_result_giver(query)\n",
    "if fun_call=='noResults' or fun_call=='noSearch':\n",
    "    print('We have no radio for query named ',query)\n",
    "else:\n",
    "    prompt_list=list()\n",
    "    for name in fun_call:\n",
    "        prompt_list.append(name)\n",
    "\n",
    "    # now prompt this list\n",
    "    which_book=[\n",
    "            {\n",
    "                'type':'list',\n",
    "                'name':'type',\n",
    "                'message':'please choose a book:',\n",
    "                'choices':prompt_list,\n",
    "                'default':0\n",
    "            }\n",
    "        ]\n",
    "    answer=prompt(which_book)['type']\n",
    "    # prompt done and answer is also there\n",
    "\n",
    "    # just click it\n",
    "    fun_call[answer].click()\n",
    "\n",
    "    # click is not being carried more than 1 min\n",
    "    # what could be the reason\n",
    "    # what is the solution of the problem"
   ],
   "outputs": [],
   "metadata": {}
  },
  {
   "cell_type": "code",
   "execution_count": null,
   "source": [],
   "outputs": [],
   "metadata": {}
  },
  {
   "cell_type": "code",
   "execution_count": null,
   "source": [],
   "outputs": [],
   "metadata": {}
  },
  {
   "cell_type": "code",
   "execution_count": null,
   "source": [],
   "outputs": [],
   "metadata": {}
  }
 ],
 "metadata": {
  "orig_nbformat": 4,
  "language_info": {
   "name": "python",
   "version": "3.8.5",
   "mimetype": "text/x-python",
   "codemirror_mode": {
    "name": "ipython",
    "version": 3
   },
   "pygments_lexer": "ipython3",
   "nbconvert_exporter": "python",
   "file_extension": ".py"
  },
  "kernelspec": {
   "name": "python3",
   "display_name": "Python 3.8.5 64-bit ('base': conda)"
  },
  "interpreter": {
   "hash": "20d64e6457634db286bb2f57e568cdcaaf14f5fbfe37d467c75a4a80d0f4d780"
  }
 },
 "nbformat": 4,
 "nbformat_minor": 2
}